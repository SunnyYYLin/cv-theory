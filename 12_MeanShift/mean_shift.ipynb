{
 "cells": [
  {
   "cell_type": "markdown",
   "metadata": {},
   "source": [
    "# 均值移动图像分割\n",
    "\n",
    "## 实验目的\n",
    "试自行拍摄一幅教学楼外立面图像，并使用均值移动的方法对该图像进行分割。\n",
    "\n",
    "## 实验环境\n",
    "- OpenCV\n",
    "- NumPy\n",
    "- MatPlotLib"
   ]
  },
  {
   "cell_type": "markdown",
   "metadata": {},
   "source": [
    "## 实验原理\n",
    "\n",
    "均值移动（Mean Shift）是一种无监督的聚类算法，常用于图像分割。其核心思想是通过在特征空间中对数据点进行密度估计和迭代更新，寻找密度较高区域的中心（模式）。在图像分割中，均值移动方法将图像的像素值（包括颜色信息和空间坐标）映射到高维特征空间，通过不断更新每个像素所在的特征向量，使得特征向量逐渐靠近相应的密度峰值，进而完成分割。\n",
    "\n",
    "### 数学模型\n",
    "\n",
    "均值移动算法可以通过核密度估计的方式进行建模。假设在特征空间中有一个点 $x_i$，其密度函数 $f(x)$ 通过核函数 $\\phi(x)$ 表示为：\n",
    "\n",
    "$$\n",
    "f(x) = \\frac{1}{n h^d} \\sum_{i=1}^{n} \\phi \\left( \\frac{x - x_i}{h} \\right)\n",
    "$$\n",
    "\n",
    "其中：\n",
    "- $n$ 是样本点的数量，\n",
    "- $x_i$ 是特征空间中的数据点，\n",
    "- $h$ 是带宽参数，控制核函数的窗口大小，\n",
    "- $d$ 是特征空间的维度。\n",
    "\n",
    "均值移动的核心步骤是计算均值移动向量，其表达式为：\n",
    "\n",
    "$$\n",
    "m(x) = \\frac{\\sum_{i=1}^{n} x_i \\phi \\left( \\frac{x - x_i}{h} \\right)}{\\sum_{i=1}^{n} \\phi \\left( \\frac{x - x_i}{h} \\right)} - x\n",
    "$$\n",
    "\n",
    "该向量指示了当前点 $x$ 应该如何更新，以便移动到密度更高的区域。均值移动的目标是通过不断迭代，使数据点 $x$ 移动到密度函数的峰值。\n",
    "\n",
    "### 迭代求解\n",
    "\n",
    "均值移动算法的迭代过程如下：\n",
    "1. 选择一个初始点 $x_0$，并定义带宽参数 $h$。\n",
    "2. 计算均值移动向量 $m(x)$。\n",
    "3. 更新数据点位置：\n",
    "   $$\n",
    "   x_{t+1} = x_t + m(x_t)\n",
    "   $$\n",
    "4. 重复步骤 2 和 3，直到收敛条件满足，即当移动向量的范数 $|m(x)|$ 小于某个阈值时停止迭代。\n",
    "\n",
    "通过这种迭代过程，所有数据点最终会聚集到一个密度峰值，从而实现特征空间中的聚类。在图像分割中，这意味着每个像素都被分配到对应的颜色簇，从而形成分割后的区域。\n",
    "\n",
    "### OpenCV\n",
    "\n",
    "`cv2.pyrMeanShiftFiltering` 是 OpenCV 中实现均值移动（Mean Shift）算法的一种方法。其参数为\n",
    "\n",
    "`cv2.pyrMeanShiftFiltering(src, sp, sr, maxLevel=1, termcrit=None)`\n",
    "\n",
    "- `src`: 输入图像，以矩阵的形式。\n",
    "- `sp`: 空间窗口的半径$h_s$，控制图像的平滑程度。值越大，空间范围内的像素影响越大。\n",
    "- `sr`: 颜色窗口的半径$h_c$，控制颜色范围的平滑程度。值越大，颜色空间的平滑程度越高。\n",
    "- `maxLevel`: 金字塔最大层数。图像金字塔是一种用于降低图像分辨率的技术，较大的金字塔层数能够在更低分辨率下进行平滑，计算效率更高。这用于控制样本点的数量$n$。\n",
    "- `termcrit`: 迭代终止条件，用于控制算法何时停止。可以根据最大迭代次数或误差阈值来终止。\n",
    "\n",
    "### 染色\n",
    "通过对连通分量染色，使得分割结果的可视化更清晰。\n"
   ]
  },
  {
   "cell_type": "markdown",
   "metadata": {},
   "source": [
    "## 实验流程\n",
    "设置空间半径、颜色半径为50和30."
   ]
  },
  {
   "cell_type": "code",
   "execution_count": 4,
   "metadata": {},
   "outputs": [
    {
     "ename": "ValueError",
     "evalue": "row, column, and data arrays must be 1-D",
     "output_type": "error",
     "traceback": [
      "\u001b[0;31m---------------------------------------------------------------------------\u001b[0m",
      "\u001b[0;31mValueError\u001b[0m                                Traceback (most recent call last)",
      "Cell \u001b[0;32mIn[4], line 15\u001b[0m\n\u001b[1;32m     12\u001b[0m segments_fz \u001b[38;5;241m=\u001b[39m segmentation\u001b[38;5;241m.\u001b[39mfelzenszwalb(image, scale\u001b[38;5;241m=\u001b[39m\u001b[38;5;241m100\u001b[39m, sigma\u001b[38;5;241m=\u001b[39m\u001b[38;5;241m0.5\u001b[39m, min_size\u001b[38;5;241m=\u001b[39m\u001b[38;5;241m50\u001b[39m)\n\u001b[1;32m     14\u001b[0m \u001b[38;5;66;03m# 构建基于图像纹理和颜色的 Region Adjacency Graph (RAG)\u001b[39;00m\n\u001b[0;32m---> 15\u001b[0m g \u001b[38;5;241m=\u001b[39m \u001b[43mgraph\u001b[49m\u001b[38;5;241;43m.\u001b[39;49m\u001b[43mrag_boundary\u001b[49m\u001b[43m(\u001b[49m\u001b[43msegments_fz\u001b[49m\u001b[43m,\u001b[49m\u001b[43m \u001b[49m\u001b[43mimage\u001b[49m\u001b[43m)\u001b[49m\n\u001b[1;32m     17\u001b[0m \u001b[38;5;66;03m# 使用 Normalized Cut 方法分割图像\u001b[39;00m\n\u001b[1;32m     18\u001b[0m labels \u001b[38;5;241m=\u001b[39m graph\u001b[38;5;241m.\u001b[39mcut_normalized(segments_fz, g)\n",
      "File \u001b[0;32m~/anaconda3/envs/cv/lib/python3.12/site-packages/skimage/graph/_rag.py:445\u001b[0m, in \u001b[0;36mrag_boundary\u001b[0;34m(labels, edge_map, connectivity)\u001b[0m\n\u001b[1;32m    440\u001b[0m count_matrix \u001b[38;5;241m=\u001b[39m sparse\u001b[38;5;241m.\u001b[39mcoo_matrix(\n\u001b[1;32m    441\u001b[0m     (ones, (labels_small, labels_large)), dtype\u001b[38;5;241m=\u001b[39m\u001b[38;5;28mint\u001b[39m, shape\u001b[38;5;241m=\u001b[39m(n, n)\n\u001b[1;32m    442\u001b[0m )\u001b[38;5;241m.\u001b[39mtocsr()\n\u001b[1;32m    443\u001b[0m data \u001b[38;5;241m=\u001b[39m np\u001b[38;5;241m.\u001b[39mconcatenate((edge_map[boundaries0], edge_map[boundaries1]))\n\u001b[0;32m--> 445\u001b[0m data_coo \u001b[38;5;241m=\u001b[39m \u001b[43msparse\u001b[49m\u001b[38;5;241;43m.\u001b[39;49m\u001b[43mcoo_matrix\u001b[49m\u001b[43m(\u001b[49m\u001b[43m(\u001b[49m\u001b[43mdata\u001b[49m\u001b[43m,\u001b[49m\u001b[43m \u001b[49m\u001b[43m(\u001b[49m\u001b[43mlabels_small\u001b[49m\u001b[43m,\u001b[49m\u001b[43m \u001b[49m\u001b[43mlabels_large\u001b[49m\u001b[43m)\u001b[49m\u001b[43m)\u001b[49m\u001b[43m)\u001b[49m\n\u001b[1;32m    446\u001b[0m graph_matrix \u001b[38;5;241m=\u001b[39m data_coo\u001b[38;5;241m.\u001b[39mtocsr()\n\u001b[1;32m    447\u001b[0m graph_matrix\u001b[38;5;241m.\u001b[39mdata \u001b[38;5;241m/\u001b[39m\u001b[38;5;241m=\u001b[39m count_matrix\u001b[38;5;241m.\u001b[39mdata\n",
      "File \u001b[0;32m~/anaconda3/envs/cv/lib/python3.12/site-packages/scipy/sparse/_coo.py:99\u001b[0m, in \u001b[0;36m_coo_base.__init__\u001b[0;34m(self, arg1, shape, dtype, copy)\u001b[0m\n\u001b[1;32m     96\u001b[0m \u001b[38;5;28;01mif\u001b[39;00m dtype \u001b[38;5;129;01mis\u001b[39;00m \u001b[38;5;129;01mnot\u001b[39;00m \u001b[38;5;28;01mNone\u001b[39;00m:\n\u001b[1;32m     97\u001b[0m     \u001b[38;5;28mself\u001b[39m\u001b[38;5;241m.\u001b[39mdata \u001b[38;5;241m=\u001b[39m \u001b[38;5;28mself\u001b[39m\u001b[38;5;241m.\u001b[39mdata\u001b[38;5;241m.\u001b[39mastype(dtype, copy\u001b[38;5;241m=\u001b[39m\u001b[38;5;28;01mFalse\u001b[39;00m)\n\u001b[0;32m---> 99\u001b[0m \u001b[38;5;28;43mself\u001b[39;49m\u001b[38;5;241;43m.\u001b[39;49m\u001b[43m_check\u001b[49m\u001b[43m(\u001b[49m\u001b[43m)\u001b[49m\n",
      "File \u001b[0;32m~/anaconda3/envs/cv/lib/python3.12/site-packages/scipy/sparse/_coo.py:202\u001b[0m, in \u001b[0;36m_coo_base._check\u001b[0;34m(self)\u001b[0m\n\u001b[1;32m    198\u001b[0m \u001b[38;5;28mself\u001b[39m\u001b[38;5;241m.\u001b[39mcoords \u001b[38;5;241m=\u001b[39m \u001b[38;5;28mtuple\u001b[39m(np\u001b[38;5;241m.\u001b[39masarray(idx, dtype\u001b[38;5;241m=\u001b[39midx_dtype)\n\u001b[1;32m    199\u001b[0m                      \u001b[38;5;28;01mfor\u001b[39;00m idx \u001b[38;5;129;01min\u001b[39;00m \u001b[38;5;28mself\u001b[39m\u001b[38;5;241m.\u001b[39mcoords)\n\u001b[1;32m    200\u001b[0m \u001b[38;5;28mself\u001b[39m\u001b[38;5;241m.\u001b[39mdata \u001b[38;5;241m=\u001b[39m to_native(\u001b[38;5;28mself\u001b[39m\u001b[38;5;241m.\u001b[39mdata)\n\u001b[0;32m--> 202\u001b[0m \u001b[38;5;28;01mif\u001b[39;00m \u001b[38;5;28;43mself\u001b[39;49m\u001b[38;5;241;43m.\u001b[39;49m\u001b[43mnnz\u001b[49m \u001b[38;5;241m>\u001b[39m \u001b[38;5;241m0\u001b[39m:\n\u001b[1;32m    203\u001b[0m     \u001b[38;5;28;01mfor\u001b[39;00m i, idx \u001b[38;5;129;01min\u001b[39;00m \u001b[38;5;28menumerate\u001b[39m(\u001b[38;5;28mself\u001b[39m\u001b[38;5;241m.\u001b[39mcoords):\n\u001b[1;32m    204\u001b[0m         \u001b[38;5;28;01mif\u001b[39;00m idx\u001b[38;5;241m.\u001b[39mmax() \u001b[38;5;241m>\u001b[39m\u001b[38;5;241m=\u001b[39m \u001b[38;5;28mself\u001b[39m\u001b[38;5;241m.\u001b[39mshape[i]:\n",
      "File \u001b[0;32m~/anaconda3/envs/cv/lib/python3.12/site-packages/scipy/sparse/_base.py:302\u001b[0m, in \u001b[0;36m_spbase.nnz\u001b[0;34m(self)\u001b[0m\n\u001b[1;32m    294\u001b[0m \u001b[38;5;129m@property\u001b[39m\n\u001b[1;32m    295\u001b[0m \u001b[38;5;28;01mdef\u001b[39;00m \u001b[38;5;21mnnz\u001b[39m(\u001b[38;5;28mself\u001b[39m) \u001b[38;5;241m-\u001b[39m\u001b[38;5;241m>\u001b[39m \u001b[38;5;28mint\u001b[39m:\n\u001b[1;32m    296\u001b[0m \u001b[38;5;250m    \u001b[39m\u001b[38;5;124;03m\"\"\"Number of stored values, including explicit zeros.\u001b[39;00m\n\u001b[1;32m    297\u001b[0m \n\u001b[1;32m    298\u001b[0m \u001b[38;5;124;03m    See also\u001b[39;00m\n\u001b[1;32m    299\u001b[0m \u001b[38;5;124;03m    --------\u001b[39;00m\n\u001b[1;32m    300\u001b[0m \u001b[38;5;124;03m    count_nonzero : Number of non-zero entries\u001b[39;00m\n\u001b[1;32m    301\u001b[0m \u001b[38;5;124;03m    \"\"\"\u001b[39;00m\n\u001b[0;32m--> 302\u001b[0m     \u001b[38;5;28;01mreturn\u001b[39;00m \u001b[38;5;28;43mself\u001b[39;49m\u001b[38;5;241;43m.\u001b[39;49m\u001b[43m_getnnz\u001b[49m\u001b[43m(\u001b[49m\u001b[43m)\u001b[49m\n",
      "File \u001b[0;32m~/anaconda3/envs/cv/lib/python3.12/site-packages/scipy/sparse/_coo.py:169\u001b[0m, in \u001b[0;36m_coo_base._getnnz\u001b[0;34m(self, axis)\u001b[0m\n\u001b[1;32m    165\u001b[0m         \u001b[38;5;28;01mraise\u001b[39;00m \u001b[38;5;167;01mValueError\u001b[39;00m(\u001b[38;5;124m'\u001b[39m\u001b[38;5;124mall index and data arrays must have the \u001b[39m\u001b[38;5;124m'\u001b[39m\n\u001b[1;32m    166\u001b[0m                          \u001b[38;5;124m'\u001b[39m\u001b[38;5;124msame length\u001b[39m\u001b[38;5;124m'\u001b[39m)\n\u001b[1;32m    168\u001b[0m     \u001b[38;5;28;01mif\u001b[39;00m \u001b[38;5;28mself\u001b[39m\u001b[38;5;241m.\u001b[39mdata\u001b[38;5;241m.\u001b[39mndim \u001b[38;5;241m!=\u001b[39m \u001b[38;5;241m1\u001b[39m \u001b[38;5;129;01mor\u001b[39;00m \u001b[38;5;28many\u001b[39m(idx\u001b[38;5;241m.\u001b[39mndim \u001b[38;5;241m!=\u001b[39m \u001b[38;5;241m1\u001b[39m \u001b[38;5;28;01mfor\u001b[39;00m idx \u001b[38;5;129;01min\u001b[39;00m \u001b[38;5;28mself\u001b[39m\u001b[38;5;241m.\u001b[39mcoords):\n\u001b[0;32m--> 169\u001b[0m         \u001b[38;5;28;01mraise\u001b[39;00m \u001b[38;5;167;01mValueError\u001b[39;00m(\u001b[38;5;124m'\u001b[39m\u001b[38;5;124mrow, column, and data arrays must be 1-D\u001b[39m\u001b[38;5;124m'\u001b[39m)\n\u001b[1;32m    171\u001b[0m     \u001b[38;5;28;01mreturn\u001b[39;00m \u001b[38;5;28mint\u001b[39m(nnz)\n\u001b[1;32m    173\u001b[0m \u001b[38;5;28;01mif\u001b[39;00m axis \u001b[38;5;241m<\u001b[39m \u001b[38;5;241m0\u001b[39m:\n",
      "\u001b[0;31mValueError\u001b[0m: row, column, and data arrays must be 1-D"
     ]
    }
   ],
   "source": [
    "import cv2\n",
    "import numpy as np\n",
    "import matplotlib.pyplot as plt\n",
    "from utils.seg_viz import label_segments, color_labels\n",
    "\n",
    "# 读取图像\n",
    "image = cv2.imread('example.jpg')\n",
    "image = cv2.cvtColor(image, cv2.COLOR_BGR2RGB)\n",
    "\n",
    "# 均值移动参数\n",
    "spatial_radius = 50 # 空间半径\n",
    "color_radius = 10 # 颜色半径\n",
    "max_pyramid_level = 1\n",
    "\n",
    "# 应用均值移动分割\n",
    "segmented_image = cv2.pyrMeanShiftFiltering(image, spatial_radius, color_radius, max_pyramid_level)\n",
    "\n",
    "# 标记分割区域\n",
    "num_labels, labels = label_segments(segmented_image, 5**3)\n",
    "colored_labels = color_labels(labels)\n",
    "\n",
    "# 显示结果\n",
    "plt.figure(figsize=(18, 8))\n",
    "plt.subplot(1, 3, 1)\n",
    "plt.imshow(image)\n",
    "plt.title('Original Image')\n",
    "plt.subplot(1, 3, 2)\n",
    "plt.imshow(segmented_image)\n",
    "plt.title('Segmented Image')\n",
    "plt.subplot(1, 3, 3)\n",
    "plt.imshow(colored_labels)\n",
    "plt.title('Labeled Image')\n",
    "plt.show()"
   ]
  },
  {
   "cell_type": "markdown",
   "metadata": {},
   "source": [
    "可以看到，均值移动算法使得图像平滑了。经过均值移动处理后，教学楼外墙瓷砖缝隙被几乎消除，但仍然存在；由于玻璃的透明和反光，导致其难以被完整分割。经过阈值处理后，教学楼被分割出来，并且阴面和阳面被分别分割；窗户玻璃没有被单独分割，但窗框被分割了；由于高层的玻璃反光，这对分割效果有一定影响，容易和天空混淆；由于天空面积较大，且左侧无云右侧有云，所以被分割成了四部分；教学楼的瓷砖缝隙被良好消除。总的来说分割效果良好，但教学楼砖缝、玻璃反光透光以及天空的非均匀色彩是难点，效果不是很好。"
   ]
  }
 ],
 "metadata": {
  "kernelspec": {
   "display_name": "cv",
   "language": "python",
   "name": "python3"
  },
  "language_info": {
   "codemirror_mode": {
    "name": "ipython",
    "version": 3
   },
   "file_extension": ".py",
   "mimetype": "text/x-python",
   "name": "python",
   "nbconvert_exporter": "python",
   "pygments_lexer": "ipython3",
   "version": "3.12.4"
  }
 },
 "nbformat": 4,
 "nbformat_minor": 2
}
