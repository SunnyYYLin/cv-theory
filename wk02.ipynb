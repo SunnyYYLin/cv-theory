{
 "cells": [
  {
   "cell_type": "markdown",
   "metadata": {},
   "source": [
    "# 问题\n",
    "试选用一个深度学习框架，利用MNIST数据集训练一个LeNet模型，并统计平均识别准确率\n",
    "\n",
    "# 解答\n",
    "## 选择深度学习框架\n",
    "考虑到有一块3060 Laptop显卡，选择可以支持CUDA的深度学习框架。这里我们选择PyTorch。"
   ]
  },
  {
   "cell_type": "code",
   "execution_count": null,
   "metadata": {},
   "outputs": [],
   "source": [
    "import torch\n",
    "import torch.nn as nn"
   ]
  },
  {
   "cell_type": "markdown",
   "metadata": {},
   "source": [
    "## MNIST数据集"
   ]
  }
 ],
 "metadata": {
  "language_info": {
   "name": "python"
  }
 },
 "nbformat": 4,
 "nbformat_minor": 2
}
